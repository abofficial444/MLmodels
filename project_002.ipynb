{
 "cells": [
  {
   "cell_type": "markdown",
   "metadata": {},
   "source": [
    "# Problem statement:\n",
    "Given the univariate land_size and house price of a geographical location, predict the selling price of a new house in that location"
   ]
  },
  {
   "cell_type": "markdown",
   "metadata": {},
   "source": [
    "Using linear regression(univariate)\n",
    "1. import necessary libraries\n",
    "2. load the univariate dataset\n",
    "3. reshape the features to regression(-1,1)\n",
    "4. using fit module in linear regression obtain the coefficient and intercept:\n",
    "\n",
    "    (a) regr= linear_model.LinearRegression()\n",
    "    \n",
    "    (b) regr.fit(features, target)\n",
    "    \n",
    "    print(\"coefficients =\" , regr.coef_)\n",
    "    print(\"intercepts =\" , regr.intercept_)\n",
    "5. plot the prediction line"
   ]
  },
  {
   "cell_type": "code",
   "execution_count": 82,
   "metadata": {},
   "outputs": [],
   "source": [
    "#import necessary libraries\n",
    "import numpy as np\n",
    "from matplotlib import pyplot as plt\n",
    "from matplotlib import style\n",
    "style.use(\"ggplot\")\n",
    "\n",
    "from sklearn import datasets, linear_model"
   ]
  },
  {
   "cell_type": "code",
   "execution_count": 83,
   "metadata": {},
   "outputs": [],
   "source": [
    "#datasets(univariate)\n",
    "house_price =[245, 312, 279, 308, 199, 219, 405, 324, 319, 255] #target\n",
    "land_size =[1400, 1600, 1700, 1875, 1100, 1550, 2350,2450, 1425, 1700] #features"
   ]
  },
  {
   "cell_type": "code",
   "execution_count": 84,
   "metadata": {},
   "outputs": [
    {
     "name": "stdout",
     "output_type": "stream",
     "text": [
      "[[1400]\n",
      " [1600]\n",
      " [1700]\n",
      " [1875]\n",
      " [1100]\n",
      " [1550]\n",
      " [2350]\n",
      " [2450]\n",
      " [1425]\n",
      " [1700]]\n"
     ]
    }
   ],
   "source": [
    "#Reshape the feature to regression\n",
    "land_sizenew = np.array(land_size).reshape((-1,1))\n",
    "print(land_sizenew)"
   ]
  },
  {
   "cell_type": "code",
   "execution_count": 170,
   "metadata": {},
   "outputs": [],
   "source": [
    "from sklearn.linear_model import LinearRegression\n",
    "regr= LinearRegression()\n",
    "from sklearn.model_selection import train_test_split\n"
   ]
  },
  {
   "cell_type": "code",
   "execution_count": 209,
   "metadata": {},
   "outputs": [
    {
     "name": "stdout",
     "output_type": "stream",
     "text": [
      "[245, 324, 312, 199, 308, 219, 319] [255, 405, 279]\n"
     ]
    }
   ],
   "source": [
    "X_train,X_test,Y_train,Y_test = train_test_split(land_sizenew,house_price, test_size=0.30)\n",
    "print(Y_train, Y_test)"
   ]
  },
  {
   "cell_type": "code",
   "execution_count": 210,
   "metadata": {},
   "outputs": [
    {
     "name": "stdout",
     "output_type": "stream",
     "text": [
      "coefficients = [0.08049624]\n",
      "intercepts = 144.0489835120858\n"
     ]
    }
   ],
   "source": [
    " #train the model\n",
    "regr= linear_model.LinearRegression()\n",
    "regr.fit(X_train,Y_train)\n",
    "print(\"coefficients =\" , regr.coef_)\n",
    "print(\"intercepts =\" , regr.intercept_)"
   ]
  },
  {
   "cell_type": "code",
   "execution_count": 211,
   "metadata": {},
   "outputs": [
    {
     "data": {
      "text/plain": [
       "array([280.89258844, 333.21514327, 280.89258844])"
      ]
     },
     "execution_count": 211,
     "metadata": {},
     "output_type": "execute_result"
    }
   ],
   "source": [
    "regr.predict(X_test)"
   ]
  },
  {
   "cell_type": "code",
   "execution_count": 212,
   "metadata": {},
   "outputs": [
    {
     "data": {
      "text/plain": [
       "[255, 405, 279]"
      ]
     },
     "execution_count": 212,
     "metadata": {},
     "output_type": "execute_result"
    }
   ],
   "source": [
    "Y_test"
   ]
  },
  {
   "cell_type": "code",
   "execution_count": 213,
   "metadata": {},
   "outputs": [
    {
     "data": {
      "text/plain": [
       "0.551211207394787"
      ]
     },
     "execution_count": 213,
     "metadata": {},
     "output_type": "execute_result"
    }
   ],
   "source": [
    "regr.score(X_test,Y_test)"
   ]
  },
  {
   "cell_type": "code",
   "execution_count": 157,
   "metadata": {},
   "outputs": [
    {
     "data": {
      "image/png": "[encoded data removed]",
      "text/plain": [
       "<Figure size 432x288 with 1 Axes>"
      ]
     },
     "metadata": {},
     "output_type": "display_data"
    }
   ],
   "source": [
    "#plot the predicition line\n",
    "def graph(formula,x_range):\n",
    "    x =np.array(x_range)\n",
    "    y = eval(formula)\n",
    "    plt.plot(x,y)\n",
    "graph('regr.coef_*x + regr.intercept_', range(1000, 2700))\n",
    "plt.scatter(land_size,house_price, color=\"orange\", label=\"scatter plot\")\n",
    "plt.grid(color=\"blue\")\n",
    "plt.ylabel(\"house price\", color =\"blue\")\n",
    "plt.xlabel(\"land size per SQM\", color=\"blue\")\n",
    "plt.title(\"HOUSE PRICING PREDICTION\", color=\"green\")\n",
    "plt.legend()\n",
    "plt.show()"
   ]
  },
  {
   "cell_type": "code",
   "execution_count": 158,
   "metadata": {},
   "outputs": [
    {
     "name": "stdout",
     "output_type": "stream",
     "text": [
      "the house should be sold for $ [240.01097424]\n"
     ]
    }
   ],
   "source": [
    "landsize_new = 1400\n",
    "print(\"the house should be sold for $\",regr.predict(landsize_new))"
   ]
  },
  {
   "cell_type": "code",
   "execution_count": 161,
   "metadata": {},
   "outputs": [
    {
     "data": {
      "text/plain": [
       "array([240.01097424])"
      ]
     },
     "execution_count": 161,
     "metadata": {},
     "output_type": "execute_result"
    }
   ],
   "source": [
    "from sklearn.externals import joblib\n",
    "joblib.dump(regr, 'uni_house')\n",
    "app = joblib.load('uni_house')\n",
    "app.predict(1400)"
   ]
  },
  {
   "cell_type": "code",
   "execution_count": null,
   "metadata": {},
   "outputs": [],
   "source": []
  }
 ],
 "metadata": {
  "kernelspec": {
   "display_name": "Python 3",
   "language": "python",
   "name": "python3"
  },
  "language_info": {
   "codemirror_mode": {
    "name": "ipython",
    "version": 3
   },
   "file_extension": ".py",
   "mimetype": "text/x-python",
   "name": "python",
   "nbconvert_exporter": "python",
   "pygments_lexer": "ipython3",
   "version": "3.7.0"
  }
 },
 "nbformat": 4,
 "nbformat_minor": 2
}
